{
  "nbformat": 4,
  "nbformat_minor": 0,
  "metadata": {
    "colab": {
      "name": "Digit Recognizer.ipynb",
      "provenance": [],
      "collapsed_sections": [
        "7bxv3P5l2TA_",
        "4-nxHG804Zrg",
        "3l6lWTWf35XM"
      ]
    },
    "kernelspec": {
      "display_name": "Python 3",
      "name": "python3"
    },
    "language_info": {
      "name": "python"
    },
    "accelerator": "GPU"
  },
  "cells": [
    {
      "cell_type": "markdown",
      "metadata": {
        "id": "lh9g6SGaYdsX"
      },
      "source": [
        "# Importing Libraries "
      ]
    },
    {
      "cell_type": "code",
      "metadata": {
        "colab": {
          "base_uri": "https://localhost:8080/"
        },
        "id": "RPpcoKD-Ydam",
        "outputId": "bce6662a-639a-4a20-ff04-3aa795c6cf55"
      },
      "source": [
        "!pip install optuna\n"
      ],
      "execution_count": null,
      "outputs": [
        {
          "output_type": "stream",
          "name": "stdout",
          "text": [
            "Looking in indexes: https://pypi.org/simple, https://us-python.pkg.dev/colab-wheels/public/simple/\n",
            "Requirement already satisfied: optuna in /usr/local/lib/python3.7/dist-packages (2.10.0)\n",
            "Requirement already satisfied: packaging>=20.0 in /usr/local/lib/python3.7/dist-packages (from optuna) (21.3)\n",
            "Requirement already satisfied: sqlalchemy>=1.1.0 in /usr/local/lib/python3.7/dist-packages (from optuna) (1.4.36)\n",
            "Requirement already satisfied: colorlog in /usr/local/lib/python3.7/dist-packages (from optuna) (6.6.0)\n",
            "Requirement already satisfied: alembic in /usr/local/lib/python3.7/dist-packages (from optuna) (1.7.7)\n",
            "Requirement already satisfied: PyYAML in /usr/local/lib/python3.7/dist-packages (from optuna) (3.13)\n",
            "Requirement already satisfied: tqdm in /usr/local/lib/python3.7/dist-packages (from optuna) (4.64.0)\n",
            "Requirement already satisfied: cmaes>=0.8.2 in /usr/local/lib/python3.7/dist-packages (from optuna) (0.8.2)\n",
            "Requirement already satisfied: scipy!=1.4.0 in /usr/local/lib/python3.7/dist-packages (from optuna) (1.4.1)\n",
            "Requirement already satisfied: numpy in /usr/local/lib/python3.7/dist-packages (from optuna) (1.21.6)\n",
            "Requirement already satisfied: cliff in /usr/local/lib/python3.7/dist-packages (from optuna) (3.10.1)\n",
            "Requirement already satisfied: pyparsing!=3.0.5,>=2.0.2 in /usr/local/lib/python3.7/dist-packages (from packaging>=20.0->optuna) (3.0.9)\n",
            "Requirement already satisfied: importlib-metadata in /usr/local/lib/python3.7/dist-packages (from sqlalchemy>=1.1.0->optuna) (4.11.3)\n",
            "Requirement already satisfied: greenlet!=0.4.17 in /usr/local/lib/python3.7/dist-packages (from sqlalchemy>=1.1.0->optuna) (1.1.2)\n",
            "Requirement already satisfied: Mako in /usr/local/lib/python3.7/dist-packages (from alembic->optuna) (1.2.0)\n",
            "Requirement already satisfied: importlib-resources in /usr/local/lib/python3.7/dist-packages (from alembic->optuna) (5.7.1)\n",
            "Requirement already satisfied: PrettyTable>=0.7.2 in /usr/local/lib/python3.7/dist-packages (from cliff->optuna) (3.3.0)\n",
            "Requirement already satisfied: pbr!=2.1.0,>=2.0.0 in /usr/local/lib/python3.7/dist-packages (from cliff->optuna) (5.9.0)\n",
            "Requirement already satisfied: autopage>=0.4.0 in /usr/local/lib/python3.7/dist-packages (from cliff->optuna) (0.5.0)\n",
            "Requirement already satisfied: stevedore>=2.0.1 in /usr/local/lib/python3.7/dist-packages (from cliff->optuna) (3.5.0)\n",
            "Requirement already satisfied: cmd2>=1.0.0 in /usr/local/lib/python3.7/dist-packages (from cliff->optuna) (2.4.1)\n",
            "Requirement already satisfied: typing-extensions in /usr/local/lib/python3.7/dist-packages (from cmd2>=1.0.0->cliff->optuna) (4.2.0)\n",
            "Requirement already satisfied: wcwidth>=0.1.7 in /usr/local/lib/python3.7/dist-packages (from cmd2>=1.0.0->cliff->optuna) (0.2.5)\n",
            "Requirement already satisfied: attrs>=16.3.0 in /usr/local/lib/python3.7/dist-packages (from cmd2>=1.0.0->cliff->optuna) (21.4.0)\n",
            "Requirement already satisfied: pyperclip>=1.6 in /usr/local/lib/python3.7/dist-packages (from cmd2>=1.0.0->cliff->optuna) (1.8.2)\n",
            "Requirement already satisfied: zipp>=0.5 in /usr/local/lib/python3.7/dist-packages (from importlib-metadata->sqlalchemy>=1.1.0->optuna) (3.8.0)\n",
            "Requirement already satisfied: MarkupSafe>=0.9.2 in /usr/local/lib/python3.7/dist-packages (from Mako->alembic->optuna) (2.0.1)\n"
          ]
        }
      ]
    },
    {
      "cell_type": "code",
      "metadata": {
        "id": "Lwkjx3WrYcEt"
      },
      "source": [
        "import pandas as pd\n",
        "import numpy as np\n",
        "import matplotlib.pyplot as plt\n",
        "import tensorflow as tf\n",
        "from tensorflow.keras.layers import Dense, Dropout, Conv2D, BatchNormalization, MaxPool2D, Flatten, LeakyReLU\n",
        "from tensorflow.keras.preprocessing.image import ImageDataGenerator"
      ],
      "execution_count": null,
      "outputs": []
    },
    {
      "cell_type": "code",
      "source": [
        "tf.test.is_gpu_available(cuda_only=True)\n",
        "tf.config.list_physical_devices('GPU')\n",
        "\n"
      ],
      "metadata": {
        "colab": {
          "base_uri": "https://localhost:8080/"
        },
        "id": "zwJFDHLS5pdV",
        "outputId": "60167459-5f8a-4521-adf4-ad7e75b1402c"
      },
      "execution_count": null,
      "outputs": [
        {
          "output_type": "execute_result",
          "data": {
            "text/plain": [
              "[PhysicalDevice(name='/physical_device:GPU:0', device_type='GPU')]"
            ]
          },
          "metadata": {},
          "execution_count": 84
        }
      ]
    },
    {
      "cell_type": "markdown",
      "metadata": {
        "id": "7bxv3P5l2TA_"
      },
      "source": [
        "# Dataset Preprocessing"
      ]
    },
    {
      "cell_type": "markdown",
      "metadata": {
        "id": "K9LoEjM43gwQ"
      },
      "source": [
        "## Importing Dataset"
      ]
    },
    {
      "cell_type": "code",
      "metadata": {
        "colab": {
          "base_uri": "https://localhost:8080/"
        },
        "id": "ws-srY6j3ITo",
        "outputId": "85a0c8cd-ab61-45f6-ad0f-08c53e8099a6"
      },
      "source": [
        "from google.colab import drive\n",
        "drive.mount(\"/content/drive\")"
      ],
      "execution_count": null,
      "outputs": [
        {
          "output_type": "stream",
          "name": "stdout",
          "text": [
            "Drive already mounted at /content/drive; to attempt to forcibly remount, call drive.mount(\"/content/drive\", force_remount=True).\n"
          ]
        }
      ]
    },
    {
      "cell_type": "code",
      "metadata": {
        "id": "ArEEnFwf3kU7"
      },
      "source": [
        "data = pd.read_csv(\"/content/drive/MyDrive/Colab Notebooks/Programs/Kaggle/Digit Recognizer/train.csv\")\n",
        "data_test = pd.read_csv(\"/content/drive/MyDrive/Colab Notebooks/Programs/Kaggle/Digit Recognizer/test.csv\")"
      ],
      "execution_count": null,
      "outputs": []
    },
    {
      "cell_type": "markdown",
      "metadata": {
        "id": "4-nxHG804Zrg"
      },
      "source": [
        "## Splitting Into X and y variables"
      ]
    },
    {
      "cell_type": "code",
      "metadata": {
        "id": "yU2mzSg34ZTM"
      },
      "source": [
        "X = data.iloc[:, 1:].values\n",
        "y = data.iloc[:,0].values"
      ],
      "execution_count": null,
      "outputs": []
    },
    {
      "cell_type": "code",
      "metadata": {
        "colab": {
          "base_uri": "https://localhost:8080/"
        },
        "id": "FFfldXz743EI",
        "outputId": "4726b76d-2ea8-47bf-ee6d-a6d6d18331e0"
      },
      "source": [
        "X_test = data_test.values\n",
        "X_test.shape"
      ],
      "execution_count": null,
      "outputs": [
        {
          "output_type": "execute_result",
          "data": {
            "text/plain": [
              "(28000, 784)"
            ]
          },
          "metadata": {},
          "execution_count": 88
        }
      ]
    },
    {
      "cell_type": "markdown",
      "metadata": {
        "id": "PT_4bg7M6y4b"
      },
      "source": [
        "## Encoding Categorical Features"
      ]
    },
    {
      "cell_type": "code",
      "metadata": {
        "id": "KNDtWDI36ylp"
      },
      "source": [
        "from keras.utils.np_utils import to_categorical # convert to one-hot-encoding\n",
        "\n",
        "y = to_categorical(y, num_classes = 10)"
      ],
      "execution_count": null,
      "outputs": []
    },
    {
      "cell_type": "markdown",
      "metadata": {
        "id": "3l6lWTWf35XM"
      },
      "source": [
        "## Image Normalization"
      ]
    },
    {
      "cell_type": "code",
      "metadata": {
        "id": "CMc6lz594Xl4"
      },
      "source": [
        "X = X/255\n",
        "X_test = X_test/255"
      ],
      "execution_count": null,
      "outputs": []
    },
    {
      "cell_type": "markdown",
      "metadata": {
        "id": "unRDkx5D6169"
      },
      "source": [
        "## Reshaping"
      ]
    },
    {
      "cell_type": "code",
      "metadata": {
        "id": "ZdKe9hgp63Ux"
      },
      "source": [
        "X = X.reshape((42000,28,28,1))\n",
        "X_test = X_test.reshape((28000,28,28,1))"
      ],
      "execution_count": null,
      "outputs": []
    },
    {
      "cell_type": "code",
      "source": [
        "X.shape"
      ],
      "metadata": {
        "colab": {
          "base_uri": "https://localhost:8080/"
        },
        "id": "PjBXzuzm5Igk",
        "outputId": "09f774ac-2d99-475b-c574-38f64eb10f66"
      },
      "execution_count": null,
      "outputs": [
        {
          "output_type": "execute_result",
          "data": {
            "text/plain": [
              "(42000, 28, 28, 1)"
            ]
          },
          "metadata": {},
          "execution_count": 92
        }
      ]
    },
    {
      "cell_type": "code",
      "source": [
        "y.shape"
      ],
      "metadata": {
        "colab": {
          "base_uri": "https://localhost:8080/"
        },
        "id": "cXO4XJMc5LIz",
        "outputId": "afc15d22-2052-45a3-b52b-cda04a510144"
      },
      "execution_count": null,
      "outputs": [
        {
          "output_type": "execute_result",
          "data": {
            "text/plain": [
              "(42000, 10)"
            ]
          },
          "metadata": {},
          "execution_count": 93
        }
      ]
    },
    {
      "cell_type": "markdown",
      "metadata": {
        "id": "rxeXsJ7886Rx"
      },
      "source": [
        "## Splitting into training and validation"
      ]
    },
    {
      "cell_type": "code",
      "metadata": {
        "id": "XHwcygxv85_-"
      },
      "source": [
        "from sklearn.model_selection import train_test_split\n",
        "X_train,X_val,y_train, y_val = train_test_split(X, y, test_size = 0.1)"
      ],
      "execution_count": null,
      "outputs": []
    },
    {
      "cell_type": "markdown",
      "source": [
        "## Data Augmentation\n"
      ],
      "metadata": {
        "id": "e9u7ndL-QoMx"
      }
    },
    {
      "cell_type": "code",
      "source": [
        "augmentator = ImageDataGenerator(\n",
        "        featurewise_center = False,\n",
        "        samplewise_center = False,\n",
        "        featurewise_std_normalization = False, \n",
        "        samplewise_std_normalization = False,\n",
        "        zca_whitening = False,\n",
        "        horizontal_flip = False,\n",
        "        vertical_flip = False,\n",
        "        fill_mode = 'nearest',\n",
        "        rotation_range = 10,  \n",
        "        zoom_range = 0.1, \n",
        "        width_shift_range = 0.1, \n",
        "        height_shift_range = 0.1)\n",
        "\n",
        "augmentator.fit(X_train)\n",
        "train_gen = augmentator.flow(X_train, y_train, batch_size=32)"
      ],
      "metadata": {
        "id": "JudP926QQ2Om"
      },
      "execution_count": null,
      "outputs": []
    },
    {
      "cell_type": "code",
      "source": [
        "augmentator = ImageDataGenerator(\n",
        "        featurewise_center = False,\n",
        "        samplewise_center = False,\n",
        "        featurewise_std_normalization = False, \n",
        "        samplewise_std_normalization = False,\n",
        "        zca_whitening = False,\n",
        "        horizontal_flip = False,\n",
        "        vertical_flip = False,\n",
        "        fill_mode = 'nearest',\n",
        "        rotation_range = 10,  \n",
        "        zoom_range = 0.1, \n",
        "        width_shift_range = 0.1, \n",
        "        height_shift_range = 0.1)\n",
        "\n",
        "augmentator.fit(X_val)\n",
        "val_gen = augmentator.flow(X_val, y_val, batch_size=32)"
      ],
      "metadata": {
        "id": "nQ7XXeddTCrW"
      },
      "execution_count": null,
      "outputs": []
    },
    {
      "cell_type": "markdown",
      "source": [
        "# Old Attempts"
      ],
      "metadata": {
        "id": "cu0OrIOOwLxH"
      }
    },
    {
      "cell_type": "markdown",
      "metadata": {
        "id": "q096_wsM9aaY"
      },
      "source": [
        "## Attempt 1: Creating Neural Network"
      ]
    },
    {
      "cell_type": "markdown",
      "metadata": {
        "id": "OplcJt7B9hSi"
      },
      "source": [
        "## Building the CNN"
      ]
    },
    {
      "cell_type": "code",
      "metadata": {
        "id": "yH4W8kD-9qcu"
      },
      "source": [
        "model_1 = tf.keras.models.Sequential()"
      ],
      "execution_count": null,
      "outputs": []
    },
    {
      "cell_type": "code",
      "metadata": {
        "id": "HnUsj57297jE"
      },
      "source": [
        "model_1.add(Conv2D(filters = 16, kernel_size = 3, activation = 'relu', input_shape = [28,28,1]))\n",
        "model_1.add(BatchNormalization())\n",
        "model_1.add(Conv2D(filters = 16, kernel_size = 3, activation = 'relu'))\n",
        "model_1.add(BatchNormalization())\n",
        "model_1.add(MaxPool2D(pool_size = 2, strides = 2, padding = 'valid'))"
      ],
      "execution_count": null,
      "outputs": []
    },
    {
      "cell_type": "code",
      "metadata": {
        "id": "GOZxuqTa-Vye"
      },
      "source": [
        "model_1.add(Conv2D(filters = 16, kernel_size = 3, activation = 'relu'))\n",
        "model_1.add(Conv2D(filters = 32, kernel_size = 3, activation = 'relu'))\n",
        "model_1.add(MaxPool2D(pool_size = 2, strides = 2, padding = 'valid'))"
      ],
      "execution_count": null,
      "outputs": []
    },
    {
      "cell_type": "code",
      "metadata": {
        "id": "HujEUmwi-aX-"
      },
      "source": [
        "model_1.add(Flatten())\n",
        "model_1.add(BatchNormalization())"
      ],
      "execution_count": null,
      "outputs": []
    },
    {
      "cell_type": "code",
      "metadata": {
        "id": "Ee5QxgDp-iDr"
      },
      "source": [
        "model_1.add(Dense(units = 32, activation = 'relu'))\n",
        "model_1.add(BatchNormalization())\n",
        "model_1.add(Dropout(rate = 0.1))\n",
        "model_1.add(Dense(units = 64, activation = 'relu'))"
      ],
      "execution_count": null,
      "outputs": []
    },
    {
      "cell_type": "code",
      "metadata": {
        "id": "2GUBY9l9_GeM"
      },
      "source": [
        "model_1.add(Dense(units = 10, activation = 'softmax'))\n"
      ],
      "execution_count": null,
      "outputs": []
    },
    {
      "cell_type": "code",
      "metadata": {
        "id": "5oqsPcO4_Bpt"
      },
      "source": [
        "model_1.compile(loss=tf.keras.losses.CategoricalCrossentropy(), optimizer=\"adam\", metrics=[\"accuracy\"])"
      ],
      "execution_count": null,
      "outputs": []
    },
    {
      "cell_type": "markdown",
      "metadata": {
        "id": "yErUB5ZM9i-0"
      },
      "source": [
        "## Training the CNN"
      ]
    },
    {
      "cell_type": "code",
      "metadata": {
        "colab": {
          "base_uri": "https://localhost:8080/",
          "height": 168
        },
        "id": "cuuNPiKb9rEe",
        "outputId": "ab7fa6d2-3f39-496f-930b-cab8b19464e6"
      },
      "source": [
        "model_1.fit(X_train, y_train, epochs = 3)"
      ],
      "execution_count": null,
      "outputs": [
        {
          "output_type": "error",
          "ename": "NameError",
          "evalue": "ignored",
          "traceback": [
            "\u001b[0;31m---------------------------------------------------------------------------\u001b[0m",
            "\u001b[0;31mNameError\u001b[0m                                 Traceback (most recent call last)",
            "\u001b[0;32m<ipython-input-11-81ee72a96123>\u001b[0m in \u001b[0;36m<module>\u001b[0;34m()\u001b[0m\n\u001b[0;32m----> 1\u001b[0;31m \u001b[0mmodel_1\u001b[0m\u001b[0;34m.\u001b[0m\u001b[0mfit\u001b[0m\u001b[0;34m(\u001b[0m\u001b[0mX_train\u001b[0m\u001b[0;34m,\u001b[0m \u001b[0my_train\u001b[0m\u001b[0;34m,\u001b[0m \u001b[0mepochs\u001b[0m \u001b[0;34m=\u001b[0m \u001b[0;36m3\u001b[0m\u001b[0;34m)\u001b[0m\u001b[0;34m\u001b[0m\u001b[0;34m\u001b[0m\u001b[0m\n\u001b[0m",
            "\u001b[0;31mNameError\u001b[0m: name 'X_train' is not defined"
          ]
        }
      ]
    },
    {
      "cell_type": "code",
      "metadata": {
        "id": "EkgrkfayPOYu"
      },
      "source": [
        "accuracy = model_1.evaluate(X_val, y_val)\n",
        "accuracies = [accuracy[1]]"
      ],
      "execution_count": null,
      "outputs": []
    },
    {
      "cell_type": "markdown",
      "metadata": {
        "id": "wvKsM2Wg9njG"
      },
      "source": [
        "## Testing the CNN"
      ]
    },
    {
      "cell_type": "markdown",
      "metadata": {
        "id": "gnuqw7zYEhwz"
      },
      "source": [
        "## Attempt 2: Optuna Hyperparameter Tuning with a DCNN"
      ]
    },
    {
      "cell_type": "markdown",
      "metadata": {
        "id": "9xfY2lXm7P29"
      },
      "source": [
        "## Network One"
      ]
    },
    {
      "cell_type": "markdown",
      "metadata": {
        "id": "kTQgEtrz7cni"
      },
      "source": [
        "Layers:\n",
        "\n",
        "1. Conv_2d\n",
        "2. Conv_2d\n",
        "3. Max_pooling\n",
        "4. Conv_2d\n",
        "5. Conv_2d\n",
        "6. Max_Pooling\n",
        "7. Flatten\n",
        "8. Dense_1\n",
        "9. Dropout\n",
        "10. Dense\n",
        "11. Output\n",
        "\n",
        "\n",
        "\n"
      ]
    },
    {
      "cell_type": "code",
      "metadata": {
        "id": "2sR69udlEgCG"
      },
      "source": [
        "import optuna\n",
        "def objective_NN(trial):\n",
        "  conv_2d_1 = Conv2D(filters = trial.suggest_int(\"conv_2d_1_filters\" ,8, 128),\n",
        "                     kernel_size = 3,\n",
        "                     activation ='relu',\n",
        "                     input_shape = (28, 28, 1))\n",
        "  conv_2d_2 = Conv2D(filters = trial.suggest_int(\"conv_2d_2_filters\" ,8, 128),\n",
        "                     kernel_size =3,\n",
        "                     activation = 'relu')\n",
        "  conv_2d_3 = Conv2D(filters = trial.suggest_int(\"conv_2d_3_filters\" ,8, 128),\n",
        "                     kernel_size = 3,\n",
        "                     activation = 'relu')\n",
        "  conv_2d_4 = Conv2D(filters = trial.suggest_int(\"conv_2d_4_filters\" ,8, 256),\n",
        "                     kernel_size = 3,\n",
        "                     activation = 'relu')\n",
        "  \n",
        "  max_pooling_1 = MaxPool2D(pool_size = 2, strides = 2, padding = 'valid')\n",
        "  max_pooling_2 = MaxPool2D(pool_size = 2, strides = 2, padding = 'valid')\n",
        "\n",
        "  flatten = Flatten()\n",
        "\n",
        "  dense_1 = Dense(units = trial.suggest_int(\"dense_1_units\", 16, 256), activation = trial.suggest_categorical('dense_1_activation', ['relu', 'linear', 'sigmoid']) )\n",
        "  dense_2 = Dense(units = trial.suggest_int(\"dense_2_units\", 16, 256), activation = trial.suggest_categorical('dense_2_activation', ['relu', 'linear', 'sigmoid']) )\n",
        "\n",
        "  dropout = Dropout(rate = trial.suggest_float('dropout_rate', 0.05, 1))\n",
        "\n",
        "  output = Dense(units = 10, activation = trial.suggest_categorical('output_activation', ['softmax', 'sigmoid']))\n",
        "\n",
        "\n",
        "\n",
        "  model_layers = (conv_2d_1,conv_2d_2, max_pooling_1, conv_2d_3, conv_2d_4, max_pooling_2, flatten, dense_1, dropout, dense_2, output)\n",
        "  model = tf.keras.models.Sequential(model_layers)\n",
        "  model.compile(loss = 'categorical_crossentropy', optimizer=\"adam\", metrics=[\"accuracy\"])\n",
        "\n",
        "  model.fit(X_train, y_train, epochs = trial.suggest_int('epochs', 1, 10))\n",
        "\n",
        "  accuracy = model.evaluate(X_val, y_val)\n",
        "\n",
        "  return accuracy[1]\n",
        "\n",
        "study = optuna.create_study(direction='maximize')\n",
        "study.optimize(objective_NN, n_trials = 100)"
      ],
      "execution_count": null,
      "outputs": []
    },
    {
      "cell_type": "code",
      "metadata": {
        "id": "pilT-uP73ugB"
      },
      "source": [
        "#  Trial 21 finished with value: 0.9933333396911621 and parameters: {'conv_2d_1_filters': 67, 'conv_2d_2_filters': 104, 'conv_2d_3_filters': 74, 'conv_2d_4_filters': 82, 'dense_1_units': 136, 'dense_1_activation': 'relu', 'dense_2_units': 252, 'dense_2_activation': 'sigmoid', 'dropout_rate': 0.7265591982474168, 'output_activation': 'sigmoid', 'epochs': 10}'sigmoid', 'dense_2_units': 96, 'dense_2_activation': 'sigmoid', 'dropout_rate': 0.5701146378876534, 'output_activation': 'softmax', 'epochs': 10}. Best is trial 37 with value: 0.9930952191352844.\n",
        "print(\"Number of finished trials: {}\".format(len(study.trials)))\n",
        "print(\"Best trial:\")\n",
        "trial = study.best_trial\n",
        "print(\"  Value: {}\".format(trial.value))\n",
        "print(\"  Params: \")\n",
        "for key, value in trial.params.items():\n",
        "  print(\"    {}: {}\".format(key, value))"
      ],
      "execution_count": null,
      "outputs": []
    },
    {
      "cell_type": "code",
      "metadata": {
        "id": "RstkqjtS6Phf"
      },
      "source": [
        "optuna.visualization.plot_param_importances(study)"
      ],
      "execution_count": null,
      "outputs": []
    },
    {
      "cell_type": "code",
      "metadata": {
        "id": "3SWEEPxw3oKk"
      },
      "source": [
        "def build_model(conv_2d_1_filters, conv_2d_2_filters, conv_2d_3_filters, conv_2d_4_filters, dense_1_units, dense_1_activation, dense_2_units, dense_2_activation, dropout_rate, output_activation):\n",
        "  conv_2d_1 = Conv2D(filters = conv_2d_1_filters,\n",
        "                     kernel_size = 3,\n",
        "                     activation ='relu',\n",
        "                     input_shape = (28, 28, 1))\n",
        "  conv_2d_2 = Conv2D(filters = conv_2d_2_filters,\n",
        "                     kernel_size = 3,\n",
        "                     activation = 'relu')\n",
        "  conv_2d_3 = Conv2D(filters = conv_2d_3_filters,\n",
        "                     kernel_size = 3,\n",
        "                     activation = 'relu')\n",
        "  conv_2d_4 = Conv2D(filters = conv_2d_4_filters,\n",
        "                     kernel_size = 3,\n",
        "                     activation = 'relu')\n",
        "  \n",
        "  max_pooling_1 = MaxPool2D(pool_size = 2, strides = 2, padding = 'valid')\n",
        "  max_pooling_2 = MaxPool2D(pool_size = 2, strides = 2, padding = 'valid')\n",
        "\n",
        "  flatten = Flatten()\n",
        "\n",
        "  dense_1 = Dense(units = dense_1_units, activation = dense_1_activation )\n",
        "  dense_2 = Dense(units = dense_2_units, activation = dense_2_activation)\n",
        "\n",
        "  dropout = Dropout(rate = dropout_rate)\n",
        "\n",
        "  output = Dense(units = 10, activation = output_activation)\n",
        "\n",
        "\n",
        "\n",
        "  model_layers = (conv_2d_1,conv_2d_2, max_pooling_1, conv_2d_3, conv_2d_4, max_pooling_2, flatten, dense_1, dropout, dense_2, output)\n",
        "  return tf.keras.models.Sequential(model_layers)\n"
      ],
      "execution_count": null,
      "outputs": []
    },
    {
      "cell_type": "code",
      "metadata": {
        "id": "TVK2gyJ142Bt"
      },
      "source": [
        "params = study.best_trial.params\n",
        "conv_2d_1_filters= params['conv_2d_1_filters'] \n",
        "conv_2d_2_filters= params['conv_2d_2_filters']\n",
        "conv_2d_3_filters= params['conv_2d_3_filters']\n",
        "conv_2d_4_filters= params['conv_2d_4_filters']\n",
        "dense_1_units= params['dense_1_units']\n",
        "dense_1_activation= params['dense_1_activation']\n",
        "dense_2_units= params['dense_2_units']\n",
        "dense_2_activation= params['dense_2_activation']\n",
        "dropout_rate= params['dropout_rate']\n",
        "output_activation = params['output_activation']\n",
        "model_2 = build_model(conv_2d_1_filters, conv_2d_2_filters, conv_2d_3_filters, conv_2d_4_filters, dense_1_units, dense_1_activation, dense_2_units, dense_2_activation, dropout_rate, output_activation)\n",
        "model_2.compile(loss=tf.keras.losses.CategoricalCrossentropy(), optimizer=\"adam\", metrics=[\"accuracy\"])\n"
      ],
      "execution_count": null,
      "outputs": []
    },
    {
      "cell_type": "code",
      "metadata": {
        "id": "wCYrp7Cm7JSy"
      },
      "source": [
        "model_2.fit(X_train, y_train, epochs = params['epochs'])"
      ],
      "execution_count": null,
      "outputs": []
    },
    {
      "cell_type": "code",
      "metadata": {
        "id": "oPp84q7G7lIE"
      },
      "source": [
        "model_2.evaluate(X_val, y_val)"
      ],
      "execution_count": null,
      "outputs": []
    },
    {
      "cell_type": "markdown",
      "source": [
        "# Complete Restart"
      ],
      "metadata": {
        "id": "p42Q-Xk2wDbF"
      }
    },
    {
      "cell_type": "code",
      "source": [
        "X_train.shape\n"
      ],
      "metadata": {
        "id": "yresWvqr6yju",
        "colab": {
          "base_uri": "https://localhost:8080/"
        },
        "outputId": "93c8697a-0c44-4e5b-a178-3cf7edcd9ee0"
      },
      "execution_count": null,
      "outputs": [
        {
          "output_type": "execute_result",
          "data": {
            "text/plain": [
              "(37800, 28, 28, 1)"
            ]
          },
          "metadata": {},
          "execution_count": 161
        }
      ]
    },
    {
      "cell_type": "code",
      "source": [
        "model = tf.keras.models.Sequential()"
      ],
      "metadata": {
        "id": "LtB1fTK5wssz"
      },
      "execution_count": null,
      "outputs": []
    },
    {
      "cell_type": "code",
      "source": [
        "model.add(Conv2D(filters = 32, kernel_size = 3, activation=\"relu\", padding=\"same\", input_shape = [28, 28, 1]))\n",
        "model.add(Conv2D(filters = 32, kernel_size = 3, activation=\"relu\", padding=\"same\"))\n",
        "model.add(MaxPool2D(pool_size = (2, 2), padding=\"same\"))\n",
        "#model.add(LeakyReLU(0.2))\n",
        "model.add(BatchNormalization())\n",
        "model.add(Dropout(0.2))\n",
        "\n",
        "\n",
        "model.add(Conv2D(filters = 64, kernel_size = 3, activation=\"relu\", padding=\"same\"))\n",
        "model.add(Conv2D(filters = 64, kernel_size = 3, activation=\"relu\", padding=\"same\"))\n",
        "model.add(MaxPool2D(pool_size = (2, 2), padding=\"same\"))\n",
        "model.add(LeakyReLU(0.2))\n",
        "model.add(BatchNormalization())\n",
        "\n",
        "model.add(Conv2D(filters = 128, kernel_size = 3, activation=\"relu\", padding=\"same\"))\n",
        "model.add(Conv2D(filters = 128, kernel_size = 3, activation=\"relu\", padding=\"same\"))\n",
        "model.add(MaxPool2D(pool_size = (2, 2), padding=\"same\"))\n",
        "model.add(LeakyReLU(0.2))\n",
        "model.add(BatchNormalization())\n",
        "model.add(Dropout(0.2))\n",
        "\n",
        "\n",
        "model.add(Flatten())\n",
        "\n",
        "\n",
        "\n",
        "model.add(Dense(units = 512, activation=\"relu\"))\n",
        "model.add(BatchNormalization())\n",
        "\n",
        "model.add(Dense(units = 256, activation=\"relu\"))\n",
        "model.add(Dropout(0.2))\n",
        "model.add(BatchNormalization())\n",
        "\n",
        "model.add(Dense(units = 64, activation=\"relu\"))\n",
        "model.add(BatchNormalization())\n",
        "\n",
        "model.add(Dense(units = 10, activation=\"softmax\"))"
      ],
      "metadata": {
        "id": "MypAZYbZy5Cy"
      },
      "execution_count": null,
      "outputs": []
    },
    {
      "cell_type": "code",
      "source": [
        "model.summary()"
      ],
      "metadata": {
        "colab": {
          "base_uri": "https://localhost:8080/"
        },
        "id": "z4AtvBYccRA5",
        "outputId": "e4aae903-e1c5-40c7-83d2-67330cb7a24e"
      },
      "execution_count": null,
      "outputs": [
        {
          "output_type": "stream",
          "name": "stdout",
          "text": [
            "Model: \"sequential_17\"\n",
            "_________________________________________________________________\n",
            " Layer (type)                Output Shape              Param #   \n",
            "=================================================================\n",
            " conv2d_93 (Conv2D)          (None, 28, 28, 32)        320       \n",
            "                                                                 \n",
            " conv2d_94 (Conv2D)          (None, 28, 28, 32)        9248      \n",
            "                                                                 \n",
            " max_pooling2d_43 (MaxPoolin  (None, 14, 14, 32)       0         \n",
            " g2D)                                                            \n",
            "                                                                 \n",
            " batch_normalization_62 (Bat  (None, 14, 14, 32)       128       \n",
            " chNormalization)                                                \n",
            "                                                                 \n",
            " dropout_24 (Dropout)        (None, 14, 14, 32)        0         \n",
            "                                                                 \n",
            " conv2d_95 (Conv2D)          (None, 14, 14, 64)        18496     \n",
            "                                                                 \n",
            " conv2d_96 (Conv2D)          (None, 14, 14, 64)        36928     \n",
            "                                                                 \n",
            " max_pooling2d_44 (MaxPoolin  (None, 7, 7, 64)         0         \n",
            " g2D)                                                            \n",
            "                                                                 \n",
            " batch_normalization_63 (Bat  (None, 7, 7, 64)         256       \n",
            " chNormalization)                                                \n",
            "                                                                 \n",
            " conv2d_97 (Conv2D)          (None, 7, 7, 128)         73856     \n",
            "                                                                 \n",
            " conv2d_98 (Conv2D)          (None, 7, 7, 128)         147584    \n",
            "                                                                 \n",
            " max_pooling2d_45 (MaxPoolin  (None, 4, 4, 128)        0         \n",
            " g2D)                                                            \n",
            "                                                                 \n",
            " batch_normalization_64 (Bat  (None, 4, 4, 128)        512       \n",
            " chNormalization)                                                \n",
            "                                                                 \n",
            " dropout_25 (Dropout)        (None, 4, 4, 128)         0         \n",
            "                                                                 \n",
            " flatten_15 (Flatten)        (None, 2048)              0         \n",
            "                                                                 \n",
            " dense_50 (Dense)            (None, 512)               1049088   \n",
            "                                                                 \n",
            " batch_normalization_65 (Bat  (None, 512)              2048      \n",
            " chNormalization)                                                \n",
            "                                                                 \n",
            " dense_51 (Dense)            (None, 256)               131328    \n",
            "                                                                 \n",
            " dropout_26 (Dropout)        (None, 256)               0         \n",
            "                                                                 \n",
            " batch_normalization_66 (Bat  (None, 256)              1024      \n",
            " chNormalization)                                                \n",
            "                                                                 \n",
            " dense_52 (Dense)            (None, 64)                16448     \n",
            "                                                                 \n",
            " batch_normalization_67 (Bat  (None, 64)               256       \n",
            " chNormalization)                                                \n",
            "                                                                 \n",
            " dense_53 (Dense)            (None, 10)                650       \n",
            "                                                                 \n",
            "=================================================================\n",
            "Total params: 1,488,170\n",
            "Trainable params: 1,486,058\n",
            "Non-trainable params: 2,112\n",
            "_________________________________________________________________\n"
          ]
        }
      ]
    },
    {
      "cell_type": "code",
      "source": [
        "optimizer = tf.keras.optimizers.Adam()\n",
        "\n",
        "model.compile(optimizer= optimizer, loss=tf.keras.losses.CategoricalCrossentropy(), metrics=[\"accuracy\"])"
      ],
      "metadata": {
        "id": "m5zbIH3y1se3"
      },
      "execution_count": null,
      "outputs": []
    },
    {
      "cell_type": "code",
      "source": [
        "model.fit(train_gen, epochs=1, steps_per_epoch = X_train.shape[0] // 64)"
      ],
      "metadata": {
        "colab": {
          "base_uri": "https://localhost:8080/"
        },
        "id": "uNt1E5hm4h6h",
        "outputId": "ef2471c4-154c-4c52-d62a-8af8cde6096a"
      },
      "execution_count": null,
      "outputs": [
        {
          "output_type": "stream",
          "name": "stdout",
          "text": [
            "Epoch 1/6\n",
            "590/590 [==============================] - 10s 14ms/step - loss: 0.3751 - accuracy: 0.8839\n",
            "Epoch 2/6\n",
            "590/590 [==============================] - 8s 14ms/step - loss: 0.1437 - accuracy: 0.9563\n",
            "Epoch 3/6\n",
            "590/590 [==============================] - 8s 14ms/step - loss: 0.1107 - accuracy: 0.9667\n",
            "Epoch 4/6\n",
            "590/590 [==============================] - 8s 14ms/step - loss: 0.0980 - accuracy: 0.9706\n",
            "Epoch 5/6\n",
            "590/590 [==============================] - 9s 14ms/step - loss: 0.0846 - accuracy: 0.9753\n",
            "Epoch 6/6\n",
            "590/590 [==============================] - 8s 14ms/step - loss: 0.0829 - accuracy: 0.9756\n"
          ]
        },
        {
          "output_type": "execute_result",
          "data": {
            "text/plain": [
              "<keras.callbacks.History at 0x7f963da650d0>"
            ]
          },
          "metadata": {},
          "execution_count": 166
        }
      ]
    },
    {
      "cell_type": "code",
      "source": [
        "model.evaluate(val_gen)"
      ],
      "metadata": {
        "colab": {
          "base_uri": "https://localhost:8080/"
        },
        "id": "BswQEzt75u5W",
        "outputId": "c26994ee-9b45-4f69-a3fa-a244d4a8c01d"
      },
      "execution_count": null,
      "outputs": [
        {
          "output_type": "stream",
          "name": "stdout",
          "text": [
            "132/132 [==============================] - 2s 11ms/step - loss: 0.0527 - accuracy: 0.9845\n"
          ]
        },
        {
          "output_type": "execute_result",
          "data": {
            "text/plain": [
              "[0.05270344763994217, 0.9845238327980042]"
            ]
          },
          "metadata": {},
          "execution_count": 167
        }
      ]
    },
    {
      "cell_type": "markdown",
      "metadata": {
        "id": "soR9urETHDd8"
      },
      "source": [
        "# Creating Testing Results"
      ]
    },
    {
      "cell_type": "code",
      "metadata": {
        "id": "9GAUwJftHCZm"
      },
      "source": [
        "predictions = model.predict(X_test)\n",
        "predictions = np.argmax(predictions, axis=1)"
      ],
      "execution_count": null,
      "outputs": []
    },
    {
      "cell_type": "code",
      "metadata": {
        "id": "0o1DFWhD6_Kx",
        "colab": {
          "base_uri": "https://localhost:8080/"
        },
        "outputId": "a0d48817-ec20-4bb9-db87-91c6258952f2"
      },
      "source": [
        "predictions"
      ],
      "execution_count": null,
      "outputs": [
        {
          "output_type": "execute_result",
          "data": {
            "text/plain": [
              "array([2, 0, 9, ..., 3, 9, 2])"
            ]
          },
          "metadata": {},
          "execution_count": 35
        }
      ]
    },
    {
      "cell_type": "code",
      "metadata": {
        "id": "H2rLf3cfJThC"
      },
      "source": [
        "submission = []\n",
        "num = 1\n",
        "for x in predictions:\n",
        "  submission.append([num, x])\n",
        "  num += 1"
      ],
      "execution_count": null,
      "outputs": []
    },
    {
      "cell_type": "code",
      "metadata": {
        "id": "3f_tGC4JKLAT",
        "colab": {
          "base_uri": "https://localhost:8080/",
          "height": 206
        },
        "outputId": "40f8bd0f-0400-4f80-bc49-d55c3d33074f"
      },
      "source": [
        "submission = pd.DataFrame(submission)\n",
        "submission.columns = [\"ImageId\", \"Label\"]\n",
        "submission.head()"
      ],
      "execution_count": null,
      "outputs": [
        {
          "output_type": "execute_result",
          "data": {
            "text/plain": [
              "   ImageId  Label\n",
              "0        1      2\n",
              "1        2      0\n",
              "2        3      9\n",
              "3        4      9\n",
              "4        5      3"
            ],
            "text/html": [
              "\n",
              "  <div id=\"df-94764a6d-1859-4c26-b2fa-033ef07ab142\">\n",
              "    <div class=\"colab-df-container\">\n",
              "      <div>\n",
              "<style scoped>\n",
              "    .dataframe tbody tr th:only-of-type {\n",
              "        vertical-align: middle;\n",
              "    }\n",
              "\n",
              "    .dataframe tbody tr th {\n",
              "        vertical-align: top;\n",
              "    }\n",
              "\n",
              "    .dataframe thead th {\n",
              "        text-align: right;\n",
              "    }\n",
              "</style>\n",
              "<table border=\"1\" class=\"dataframe\">\n",
              "  <thead>\n",
              "    <tr style=\"text-align: right;\">\n",
              "      <th></th>\n",
              "      <th>ImageId</th>\n",
              "      <th>Label</th>\n",
              "    </tr>\n",
              "  </thead>\n",
              "  <tbody>\n",
              "    <tr>\n",
              "      <th>0</th>\n",
              "      <td>1</td>\n",
              "      <td>2</td>\n",
              "    </tr>\n",
              "    <tr>\n",
              "      <th>1</th>\n",
              "      <td>2</td>\n",
              "      <td>0</td>\n",
              "    </tr>\n",
              "    <tr>\n",
              "      <th>2</th>\n",
              "      <td>3</td>\n",
              "      <td>9</td>\n",
              "    </tr>\n",
              "    <tr>\n",
              "      <th>3</th>\n",
              "      <td>4</td>\n",
              "      <td>9</td>\n",
              "    </tr>\n",
              "    <tr>\n",
              "      <th>4</th>\n",
              "      <td>5</td>\n",
              "      <td>3</td>\n",
              "    </tr>\n",
              "  </tbody>\n",
              "</table>\n",
              "</div>\n",
              "      <button class=\"colab-df-convert\" onclick=\"convertToInteractive('df-94764a6d-1859-4c26-b2fa-033ef07ab142')\"\n",
              "              title=\"Convert this dataframe to an interactive table.\"\n",
              "              style=\"display:none;\">\n",
              "        \n",
              "  <svg xmlns=\"http://www.w3.org/2000/svg\" height=\"24px\"viewBox=\"0 0 24 24\"\n",
              "       width=\"24px\">\n",
              "    <path d=\"M0 0h24v24H0V0z\" fill=\"none\"/>\n",
              "    <path d=\"M18.56 5.44l.94 2.06.94-2.06 2.06-.94-2.06-.94-.94-2.06-.94 2.06-2.06.94zm-11 1L8.5 8.5l.94-2.06 2.06-.94-2.06-.94L8.5 2.5l-.94 2.06-2.06.94zm10 10l.94 2.06.94-2.06 2.06-.94-2.06-.94-.94-2.06-.94 2.06-2.06.94z\"/><path d=\"M17.41 7.96l-1.37-1.37c-.4-.4-.92-.59-1.43-.59-.52 0-1.04.2-1.43.59L10.3 9.45l-7.72 7.72c-.78.78-.78 2.05 0 2.83L4 21.41c.39.39.9.59 1.41.59.51 0 1.02-.2 1.41-.59l7.78-7.78 2.81-2.81c.8-.78.8-2.07 0-2.86zM5.41 20L4 18.59l7.72-7.72 1.47 1.35L5.41 20z\"/>\n",
              "  </svg>\n",
              "      </button>\n",
              "      \n",
              "  <style>\n",
              "    .colab-df-container {\n",
              "      display:flex;\n",
              "      flex-wrap:wrap;\n",
              "      gap: 12px;\n",
              "    }\n",
              "\n",
              "    .colab-df-convert {\n",
              "      background-color: #E8F0FE;\n",
              "      border: none;\n",
              "      border-radius: 50%;\n",
              "      cursor: pointer;\n",
              "      display: none;\n",
              "      fill: #1967D2;\n",
              "      height: 32px;\n",
              "      padding: 0 0 0 0;\n",
              "      width: 32px;\n",
              "    }\n",
              "\n",
              "    .colab-df-convert:hover {\n",
              "      background-color: #E2EBFA;\n",
              "      box-shadow: 0px 1px 2px rgba(60, 64, 67, 0.3), 0px 1px 3px 1px rgba(60, 64, 67, 0.15);\n",
              "      fill: #174EA6;\n",
              "    }\n",
              "\n",
              "    [theme=dark] .colab-df-convert {\n",
              "      background-color: #3B4455;\n",
              "      fill: #D2E3FC;\n",
              "    }\n",
              "\n",
              "    [theme=dark] .colab-df-convert:hover {\n",
              "      background-color: #434B5C;\n",
              "      box-shadow: 0px 1px 3px 1px rgba(0, 0, 0, 0.15);\n",
              "      filter: drop-shadow(0px 1px 2px rgba(0, 0, 0, 0.3));\n",
              "      fill: #FFFFFF;\n",
              "    }\n",
              "  </style>\n",
              "\n",
              "      <script>\n",
              "        const buttonEl =\n",
              "          document.querySelector('#df-94764a6d-1859-4c26-b2fa-033ef07ab142 button.colab-df-convert');\n",
              "        buttonEl.style.display =\n",
              "          google.colab.kernel.accessAllowed ? 'block' : 'none';\n",
              "\n",
              "        async function convertToInteractive(key) {\n",
              "          const element = document.querySelector('#df-94764a6d-1859-4c26-b2fa-033ef07ab142');\n",
              "          const dataTable =\n",
              "            await google.colab.kernel.invokeFunction('convertToInteractive',\n",
              "                                                     [key], {});\n",
              "          if (!dataTable) return;\n",
              "\n",
              "          const docLinkHtml = 'Like what you see? Visit the ' +\n",
              "            '<a target=\"_blank\" href=https://colab.research.google.com/notebooks/data_table.ipynb>data table notebook</a>'\n",
              "            + ' to learn more about interactive tables.';\n",
              "          element.innerHTML = '';\n",
              "          dataTable['output_type'] = 'display_data';\n",
              "          await google.colab.output.renderOutput(dataTable, element);\n",
              "          const docLink = document.createElement('div');\n",
              "          docLink.innerHTML = docLinkHtml;\n",
              "          element.appendChild(docLink);\n",
              "        }\n",
              "      </script>\n",
              "    </div>\n",
              "  </div>\n",
              "  "
            ]
          },
          "metadata": {},
          "execution_count": 37
        }
      ]
    },
    {
      "cell_type": "code",
      "metadata": {
        "id": "ZMy3_ARHKXr5"
      },
      "source": [
        "submission.to_csv(\"output.csv\", index = False)"
      ],
      "execution_count": null,
      "outputs": []
    },
    {
      "cell_type": "code",
      "metadata": {
        "id": "clo6bEkkK0mn",
        "colab": {
          "base_uri": "https://localhost:8080/",
          "height": 423
        },
        "outputId": "df92ff04-8744-4ef3-d9a2-0314b76c740c"
      },
      "source": [
        "submission"
      ],
      "execution_count": null,
      "outputs": [
        {
          "output_type": "execute_result",
          "data": {
            "text/plain": [
              "       ImageId  Label\n",
              "0            1      2\n",
              "1            2      0\n",
              "2            3      9\n",
              "3            4      9\n",
              "4            5      3\n",
              "...        ...    ...\n",
              "27995    27996      9\n",
              "27996    27997      7\n",
              "27997    27998      3\n",
              "27998    27999      9\n",
              "27999    28000      2\n",
              "\n",
              "[28000 rows x 2 columns]"
            ],
            "text/html": [
              "\n",
              "  <div id=\"df-a66bfa16-f455-40e7-a667-0f14446b7e97\">\n",
              "    <div class=\"colab-df-container\">\n",
              "      <div>\n",
              "<style scoped>\n",
              "    .dataframe tbody tr th:only-of-type {\n",
              "        vertical-align: middle;\n",
              "    }\n",
              "\n",
              "    .dataframe tbody tr th {\n",
              "        vertical-align: top;\n",
              "    }\n",
              "\n",
              "    .dataframe thead th {\n",
              "        text-align: right;\n",
              "    }\n",
              "</style>\n",
              "<table border=\"1\" class=\"dataframe\">\n",
              "  <thead>\n",
              "    <tr style=\"text-align: right;\">\n",
              "      <th></th>\n",
              "      <th>ImageId</th>\n",
              "      <th>Label</th>\n",
              "    </tr>\n",
              "  </thead>\n",
              "  <tbody>\n",
              "    <tr>\n",
              "      <th>0</th>\n",
              "      <td>1</td>\n",
              "      <td>2</td>\n",
              "    </tr>\n",
              "    <tr>\n",
              "      <th>1</th>\n",
              "      <td>2</td>\n",
              "      <td>0</td>\n",
              "    </tr>\n",
              "    <tr>\n",
              "      <th>2</th>\n",
              "      <td>3</td>\n",
              "      <td>9</td>\n",
              "    </tr>\n",
              "    <tr>\n",
              "      <th>3</th>\n",
              "      <td>4</td>\n",
              "      <td>9</td>\n",
              "    </tr>\n",
              "    <tr>\n",
              "      <th>4</th>\n",
              "      <td>5</td>\n",
              "      <td>3</td>\n",
              "    </tr>\n",
              "    <tr>\n",
              "      <th>...</th>\n",
              "      <td>...</td>\n",
              "      <td>...</td>\n",
              "    </tr>\n",
              "    <tr>\n",
              "      <th>27995</th>\n",
              "      <td>27996</td>\n",
              "      <td>9</td>\n",
              "    </tr>\n",
              "    <tr>\n",
              "      <th>27996</th>\n",
              "      <td>27997</td>\n",
              "      <td>7</td>\n",
              "    </tr>\n",
              "    <tr>\n",
              "      <th>27997</th>\n",
              "      <td>27998</td>\n",
              "      <td>3</td>\n",
              "    </tr>\n",
              "    <tr>\n",
              "      <th>27998</th>\n",
              "      <td>27999</td>\n",
              "      <td>9</td>\n",
              "    </tr>\n",
              "    <tr>\n",
              "      <th>27999</th>\n",
              "      <td>28000</td>\n",
              "      <td>2</td>\n",
              "    </tr>\n",
              "  </tbody>\n",
              "</table>\n",
              "<p>28000 rows × 2 columns</p>\n",
              "</div>\n",
              "      <button class=\"colab-df-convert\" onclick=\"convertToInteractive('df-a66bfa16-f455-40e7-a667-0f14446b7e97')\"\n",
              "              title=\"Convert this dataframe to an interactive table.\"\n",
              "              style=\"display:none;\">\n",
              "        \n",
              "  <svg xmlns=\"http://www.w3.org/2000/svg\" height=\"24px\"viewBox=\"0 0 24 24\"\n",
              "       width=\"24px\">\n",
              "    <path d=\"M0 0h24v24H0V0z\" fill=\"none\"/>\n",
              "    <path d=\"M18.56 5.44l.94 2.06.94-2.06 2.06-.94-2.06-.94-.94-2.06-.94 2.06-2.06.94zm-11 1L8.5 8.5l.94-2.06 2.06-.94-2.06-.94L8.5 2.5l-.94 2.06-2.06.94zm10 10l.94 2.06.94-2.06 2.06-.94-2.06-.94-.94-2.06-.94 2.06-2.06.94z\"/><path d=\"M17.41 7.96l-1.37-1.37c-.4-.4-.92-.59-1.43-.59-.52 0-1.04.2-1.43.59L10.3 9.45l-7.72 7.72c-.78.78-.78 2.05 0 2.83L4 21.41c.39.39.9.59 1.41.59.51 0 1.02-.2 1.41-.59l7.78-7.78 2.81-2.81c.8-.78.8-2.07 0-2.86zM5.41 20L4 18.59l7.72-7.72 1.47 1.35L5.41 20z\"/>\n",
              "  </svg>\n",
              "      </button>\n",
              "      \n",
              "  <style>\n",
              "    .colab-df-container {\n",
              "      display:flex;\n",
              "      flex-wrap:wrap;\n",
              "      gap: 12px;\n",
              "    }\n",
              "\n",
              "    .colab-df-convert {\n",
              "      background-color: #E8F0FE;\n",
              "      border: none;\n",
              "      border-radius: 50%;\n",
              "      cursor: pointer;\n",
              "      display: none;\n",
              "      fill: #1967D2;\n",
              "      height: 32px;\n",
              "      padding: 0 0 0 0;\n",
              "      width: 32px;\n",
              "    }\n",
              "\n",
              "    .colab-df-convert:hover {\n",
              "      background-color: #E2EBFA;\n",
              "      box-shadow: 0px 1px 2px rgba(60, 64, 67, 0.3), 0px 1px 3px 1px rgba(60, 64, 67, 0.15);\n",
              "      fill: #174EA6;\n",
              "    }\n",
              "\n",
              "    [theme=dark] .colab-df-convert {\n",
              "      background-color: #3B4455;\n",
              "      fill: #D2E3FC;\n",
              "    }\n",
              "\n",
              "    [theme=dark] .colab-df-convert:hover {\n",
              "      background-color: #434B5C;\n",
              "      box-shadow: 0px 1px 3px 1px rgba(0, 0, 0, 0.15);\n",
              "      filter: drop-shadow(0px 1px 2px rgba(0, 0, 0, 0.3));\n",
              "      fill: #FFFFFF;\n",
              "    }\n",
              "  </style>\n",
              "\n",
              "      <script>\n",
              "        const buttonEl =\n",
              "          document.querySelector('#df-a66bfa16-f455-40e7-a667-0f14446b7e97 button.colab-df-convert');\n",
              "        buttonEl.style.display =\n",
              "          google.colab.kernel.accessAllowed ? 'block' : 'none';\n",
              "\n",
              "        async function convertToInteractive(key) {\n",
              "          const element = document.querySelector('#df-a66bfa16-f455-40e7-a667-0f14446b7e97');\n",
              "          const dataTable =\n",
              "            await google.colab.kernel.invokeFunction('convertToInteractive',\n",
              "                                                     [key], {});\n",
              "          if (!dataTable) return;\n",
              "\n",
              "          const docLinkHtml = 'Like what you see? Visit the ' +\n",
              "            '<a target=\"_blank\" href=https://colab.research.google.com/notebooks/data_table.ipynb>data table notebook</a>'\n",
              "            + ' to learn more about interactive tables.';\n",
              "          element.innerHTML = '';\n",
              "          dataTable['output_type'] = 'display_data';\n",
              "          await google.colab.output.renderOutput(dataTable, element);\n",
              "          const docLink = document.createElement('div');\n",
              "          docLink.innerHTML = docLinkHtml;\n",
              "          element.appendChild(docLink);\n",
              "        }\n",
              "      </script>\n",
              "    </div>\n",
              "  </div>\n",
              "  "
            ]
          },
          "metadata": {},
          "execution_count": 39
        }
      ]
    }
  ]
}